{
 "cells": [
  {
   "metadata": {
    "ExecuteTime": {
     "end_time": "2025-03-13T20:34:43.228734Z",
     "start_time": "2025-03-13T20:34:43.219969Z"
    }
   },
   "cell_type": "code",
   "source": [
    "import pandas as pd\n",
    "import numpy as np\n",
    "import matplotlib.pyplot as plt\n",
    "import seaborn as sns\n",
    "import warnings\n",
    "import scipy.stats as stats\n",
    "import missingno as msno\n",
    "\n",
    "warnings.filterwarnings('ignore')"
   ],
   "id": "b4791c4441c851fe",
   "outputs": [],
   "execution_count": 7
  },
  {
   "metadata": {
    "ExecuteTime": {
     "end_time": "2025-03-13T21:01:18.970124Z",
     "start_time": "2025-03-13T21:01:18.951757Z"
    }
   },
   "cell_type": "code",
   "source": [
    "def norm(x: np.ndarray) -> bool:\n",
    "    return stats.shapiro(x)[1] > 0.05\n",
    "\n",
    "\n",
    "def correlation_ratio(categorical_series, numerical_series):\n",
    "    categories = categorical_series.unique()\n",
    "    total_mean = numerical_series.mean()\n",
    "\n",
    "    ss_between = sum(len(numerical_series[categorical_series == category]) *\n",
    "                     (numerical_series[categorical_series == category].mean() - total_mean) ** 2\n",
    "                     for category in categories)\n",
    "\n",
    "    ss_total = sum((numerical_series - total_mean) ** 2)\n",
    "\n",
    "    eta_squared = ss_between / ss_total if ss_total != 0 else 0\n",
    "\n",
    "    return np.sqrt(eta_squared)\n",
    "\n",
    "\n",
    "def corr_matrix(df: pd.DataFrame, numeric: list[str], nominal: list[str]):\n",
    "    cols = numeric + nominal\n",
    "    corr_df = pd.DataFrame(index=cols, columns=cols)\n",
    "\n",
    "    for col1 in cols:\n",
    "        for col2 in cols:\n",
    "            if col1 == col2:\n",
    "                corr_df.loc[col1, col2] = 1.0\n",
    "            elif col1 in numeric and col2 in numeric:\n",
    "                norm1 = norm(df[col1].dropna().values)\n",
    "                norm2 = norm(df[col2].dropna().values)\n",
    "                if norm1 and norm2:\n",
    "                    corr_value, _ = stats.pearsonr(df[col1].dropna(), df[col2].dropna())\n",
    "                else:\n",
    "                    corr_value, _ = stats.spearmanr(df[col1].dropna(), df[col2].dropna())\n",
    "                corr_df.loc[col1, col2] = corr_value\n",
    "                corr_df.loc[col2, col1] = corr_value\n",
    "            elif col1 in nominal and col2 in nominal:\n",
    "                contingency_table = pd.crosstab(df[col1], df[col2])\n",
    "                _, p, _, _ = stats.chi2_contingency(contingency_table)\n",
    "                corr_df.loc[col1, col2] = p\n",
    "                corr_df.loc[col2, col1] = p\n",
    "            else:\n",
    "                num_col, cat_col = (col1, col2) if col1 in numeric else (col2, col1)\n",
    "                corr_value = correlation_ratio(cat_col, num_col)\n",
    "                corr_df.loc[col1, col2] = corr_value\n",
    "                corr_df.loc[col2, col1] = corr_value\n",
    "\n",
    "    corr_df = corr_df.astype(float)\n",
    "\n",
    "\n",
    "    plt.figure(figsize=(10, 8))\n",
    "    cmap = sns.diverging_palette(220, 20, as_cmap=True)\n",
    "    sns.heatmap(corr_df, annot=True, fmt=\".2f\", cmap=cmap, center=0, linewidths=0.5)\n",
    "    plt.title(\"Матрица корреляции\")\n",
    "    plt.show()\n",
    "\n",
    "    return corr_df\n",
    "\n",
    "\n",
    "def IQR_outliers_remove(df: pd.DataFrame, columns: list[str]) -> pd.DataFrame:\n",
    "    for column in columns:\n",
    "        Q1 = df[column].quantile(0.25)\n",
    "        Q3 = df[column].quantile(0.75)\n",
    "        IQR = Q3 - Q1\n",
    "        df = df[(df[column] >= Q1 - 1.5 * IQR) & (df[column] <= Q3 + 1.5 * IQR)]\n",
    "    return df\n"
   ],
   "id": "cb2c6a8ea047986f",
   "outputs": [],
   "execution_count": 17
  },
  {
   "metadata": {
    "ExecuteTime": {
     "end_time": "2025-03-13T20:08:13.709806Z",
     "start_time": "2025-03-13T20:08:13.522710Z"
    }
   },
   "cell_type": "code",
   "source": [
    "df = pd.read_csv(\"data.csv\")\n",
    "df.columns = df.columns.str.lower().str.replace(\" \", \"_\")"
   ],
   "id": "4cf92f3a7288c83d",
   "outputs": [],
   "execution_count": 4
  },
  {
   "metadata": {},
   "cell_type": "code",
   "outputs": [],
   "execution_count": null,
   "source": "",
   "id": "49dcdbd07cd911ca"
  }
 ],
 "metadata": {
  "kernelspec": {
   "display_name": "Python 3",
   "language": "python",
   "name": "python3"
  },
  "language_info": {
   "codemirror_mode": {
    "name": "ipython",
    "version": 2
   },
   "file_extension": ".py",
   "mimetype": "text/x-python",
   "name": "python",
   "nbconvert_exporter": "python",
   "pygments_lexer": "ipython2",
   "version": "2.7.6"
  }
 },
 "nbformat": 4,
 "nbformat_minor": 5
}
