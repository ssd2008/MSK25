{
 "cells": [
  {
   "metadata": {
    "ExecuteTime": {
     "end_time": "2025-03-11T21:57:03.399614Z",
     "start_time": "2025-03-11T21:57:03.395154Z"
    }
   },
   "cell_type": "code",
   "source": [
    "import pandas as pd\n",
    "import numpy as np\n",
    "import matplotlib.pyplot as plt\n",
    "import seaborn as sns\n",
    "import warnings\n",
    "import scipy.stats as stats\n",
    "\n",
    "warnings.filterwarnings('ignore')"
   ],
   "id": "b4791c4441c851fe",
   "outputs": [],
   "execution_count": 1
  },
  {
   "metadata": {
    "ExecuteTime": {
     "end_time": "2025-03-11T22:19:17.828460Z",
     "start_time": "2025-03-11T22:19:17.811698Z"
    }
   },
   "cell_type": "code",
   "source": [
    "def norm(x: np.ndarray) -> bool:\n",
    "    return stats.shapiro(x)[1] > 0.05\n",
    "\n",
    "\n",
    "def correlation_ratio(categorical_series, numerical_series):\n",
    "    \"\"\"\n",
    "    Вычисляет меру связи (корреляцию) между категориальной и числовой переменными\n",
    "    с помощью отношения дисперсий.\n",
    "\n",
    "    :param categorical_series: pandas Series, содержащий категориальные данные\n",
    "    :param numerical_series: pandas Series, содержащий числовые данные\n",
    "    :return: значение коэффициента корреляции (от 0 до 1)\n",
    "    \"\"\"\n",
    "    categories = categorical_series\n",
    "    total_variance = np.var(numerical_series, ddof=1)\n",
    "    weighted_variance = sum(\n",
    "        np.var(numerical_series[categorical_series == category], ddof=1) *\n",
    "        len(numerical_series[categorical_series == category])\n",
    "        for category in categories\n",
    "    ) / len(numerical_series)\n",
    "\n",
    "    return np.sqrt((total_variance - weighted_variance) / total_variance) if total_variance != 0 else 0\n",
    "\n",
    "\n",
    "def corr_matrix(df: pd.DataFrame, numeric: list[str], nominal: list[str]):\n",
    "    cols = numeric + nominal\n",
    "    corr_df = pd.DataFrame(index=cols, columns=cols)\n",
    "\n",
    "    for col1 in cols:\n",
    "        for col2 in cols:\n",
    "            if col1 == col2:\n",
    "                corr_df.loc[col1, col2] = 1.0\n",
    "            elif col1 in numeric and col2 in numeric:\n",
    "                norm1 = norm(df[col1].dropna().values)\n",
    "                norm2 = norm(df[col2].dropna().values)\n",
    "                if norm1 and norm2:\n",
    "                    corr_value, _ = stats.pearsonr(df[col1].dropna(), df[col2].dropna())\n",
    "                else:\n",
    "                    corr_value, _ = stats.spearmanr(df[col1].dropna(), df[col2].dropna())\n",
    "                corr_df.loc[col1, col2] = corr_value\n",
    "                corr_df.loc[col2, col1] = corr_value\n",
    "            elif col1 in nominal and col2 in nominal:\n",
    "                contingency_table = pd.crosstab(df[col1], df[col2])\n",
    "                _, p, _, _ = stats.chi2_contingency(contingency_table)\n",
    "                corr_df.loc[col1, col2] = p\n",
    "                corr_df.loc[col2, col1] = p\n",
    "            else:\n",
    "                num_col, cat_col = (col1, col2) if col1 in numeric else (col2, col1)\n",
    "                corr_value = correlation_ratio(cat_col, num_col)\n",
    "                corr_df.loc[col1, col2] = corr_value\n",
    "                corr_df.loc[col2, col1] = corr_value\n",
    "\n",
    "    corr_df = corr_df.astype(float)\n",
    "\n",
    "\n",
    "    plt.figure(figsize=(10, 8))\n",
    "    cmap = sns.diverging_palette(220, 20, as_cmap=True)\n",
    "    sns.heatmap(corr_df, annot=True, fmt=\".2f\", cmap=cmap, center=0, linewidths=0.5)\n",
    "    plt.title(\"Матрица корреляции\")\n",
    "    plt.show()\n",
    "\n",
    "    return corr_df\n",
    "\n",
    "\n",
    "def IQR_outliers_remove(df: pd.DataFrame, columns: list[str]) -> pd.DataFrame:\n",
    "    for column in columns:\n",
    "        Q1 = df[column].quantile(0.25)\n",
    "        Q3 = df[column].quantile(0.75)\n",
    "        IQR = Q3 - Q1\n",
    "        df = df[(df[column] >= Q1 - 1.5 * IQR) & (df[column] <= Q3 + 1.5 * IQR)]\n",
    "    return df\n"
   ],
   "id": "cb2c6a8ea047986f",
   "outputs": [],
   "execution_count": 19
  },
  {
   "metadata": {},
   "cell_type": "code",
   "outputs": [],
   "execution_count": null,
   "source": "df = pd.read_csv(\"data.csv\")",
   "id": "4cf92f3a7288c83d"
  }
 ],
 "metadata": {
  "kernelspec": {
   "display_name": "Python 3",
   "language": "python",
   "name": "python3"
  },
  "language_info": {
   "codemirror_mode": {
    "name": "ipython",
    "version": 2
   },
   "file_extension": ".py",
   "mimetype": "text/x-python",
   "name": "python",
   "nbconvert_exporter": "python",
   "pygments_lexer": "ipython2",
   "version": "2.7.6"
  }
 },
 "nbformat": 4,
 "nbformat_minor": 5
}
