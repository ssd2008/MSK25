{
 "cells": [
  {
   "cell_type": "markdown",
   "metadata": {},
   "source": [
    "# Выбросы\n",
    "Если у тебя есть статистическая задача, в которое ты использушь неробастные оценкки (на которые влияют выбросы), например, среднее или T-test. \n",
    "\n",
    "**Проверь выбросы!**\n",
    "\n",
    "Сначала визуально boxplot, если они визульно есть, то стоит их отбросить по IQR или тп. \n",
    "\n",
    "**Обращай внимание на смысл данных** не может быть -5 апельсинов."
   ]
  },
  {
   "cell_type": "code",
   "execution_count": 2,
   "metadata": {},
   "outputs": [],
   "source": [
    "import pandas as pd\n",
    "\n",
    "def IQR_outliers_remove(df: pd.DataFrame, columns: list[str]) -> pd.DataFrame:\n",
    "    for column in columns:\n",
    "        Q1 = df[column].quantile(0.25)\n",
    "        Q3 = df[column].quantile(0.75)\n",
    "        IQR = Q3 - Q1\n",
    "        df = df[(df[column] >= Q1 - 1.5 * IQR) & (df[column] <= Q3 + 1.5 * IQR)]\n",
    "    return df"
   ]
  },
  {
   "cell_type": "markdown",
   "metadata": {},
   "source": [
    "# Максимум в задаче с моделированием\n",
    "Если в задаче про моделирование есть пункт **найдите максимум**, то ты должен найти оптимальные параметры задачи, а потом с ними с моделировть лучший вариант из всех возможных"
   ]
  },
  {
   "cell_type": "markdown",
   "metadata": {},
   "source": [
    "# Указание параметров, генерирующих распределения\n",
    "По опыту прошлого года за это рубили баллы, поэтому если у вас есть какое-то сгенерированое вами распределение, то не поленитесь и покажите параметры, которые его задают."
   ]
  },
  {
   "cell_type": "markdown",
   "metadata": {},
   "source": [
    "# Читаемые графики\n",
    "Указывайте заголовок, название осей, x-lim, y-lim. \n",
    "\n",
    "**Проверяйте свой график на \"читаемость\"**"
   ]
  },
  {
   "cell_type": "markdown",
   "metadata": {},
   "source": [
    "# Задача на симуляцию. Ошибка с округлением\n",
    "В задаче на симуляцию после того как вы получили оптимум, прогоните еще раз но с сильно меньшим диапазоном, например, +- 5, но с сильно большим количеством итераций и меньшим шагом, чтобы точно не ошибиться"
   ]
  },
  {
   "cell_type": "markdown",
   "metadata": {},
   "source": [
    "# Задача на оценку\n",
    "Где просят оценить интервал, подставлять максимальные и минимальные значения из условия"
   ]
  }
 ],
 "metadata": {
  "kernelspec": {
   "display_name": "Python 3",
   "language": "python",
   "name": "python3"
  },
  "language_info": {
   "codemirror_mode": {
    "name": "ipython",
    "version": 3
   },
   "file_extension": ".py",
   "mimetype": "text/x-python",
   "name": "python",
   "nbconvert_exporter": "python",
   "pygments_lexer": "ipython3",
   "version": "3.12.2"
  }
 },
 "nbformat": 4,
 "nbformat_minor": 2
}
