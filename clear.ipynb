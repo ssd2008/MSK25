{
 "cells": [
  {
   "metadata": {
    "ExecuteTime": {
     "end_time": "2025-03-15T18:27:46.829271Z",
     "start_time": "2025-03-15T18:27:46.822811Z"
    }
   },
   "cell_type": "code",
   "source": [
    "import pandas as pd\n",
    "import numpy as np\n",
    "import matplotlib.pyplot as plt\n",
    "import seaborn as sns\n",
    "import warnings\n",
    "import scipy.stats as stats\n",
    "import missingno as msno\n",
    "\n",
    "warnings.filterwarnings('ignore')"
   ],
   "id": "59d227694fc6cdef",
   "outputs": [],
   "execution_count": 1
  },
  {
   "metadata": {
    "ExecuteTime": {
     "end_time": "2025-03-15T18:27:50.333668Z",
     "start_time": "2025-03-15T18:27:50.314406Z"
    }
   },
   "cell_type": "code",
   "source": [
    "def norm(x: np.ndarray) -> bool:\n",
    "    return stats.shapiro(x)[1] > 0.05\n",
    "\n",
    "\n",
    "def correlation_ratio(categorical_series, numerical_series):\n",
    "    categories = categorical_series.unique()\n",
    "    total_mean = numerical_series.mean()\n",
    "\n",
    "    ss_between = sum(len(numerical_series[categorical_series == category]) *\n",
    "                     (numerical_series[categorical_series == category].mean() - total_mean) ** 2\n",
    "                     for category in categories)\n",
    "\n",
    "    ss_total = sum((numerical_series - total_mean) ** 2)\n",
    "\n",
    "    eta_squared = ss_between / ss_total if ss_total != 0 else 0\n",
    "\n",
    "    return np.sqrt(eta_squared)\n",
    "\n",
    "\n",
    "def corr_matrix(df: pd.DataFrame, numeric: list[str], nominal: list[str]):\n",
    "    cols = numeric + nominal\n",
    "    corr_df = pd.DataFrame(index=cols, columns=cols)\n",
    "\n",
    "    for col1 in cols:\n",
    "        for col2 in cols:\n",
    "            if col1 == col2:\n",
    "                corr_df.loc[col1, col2] = 1.0\n",
    "            elif col1 in numeric and col2 in numeric:\n",
    "                norm1 = norm(df[col1].dropna().values)\n",
    "                norm2 = norm(df[col2].dropna().values)\n",
    "                if norm1 and norm2:\n",
    "                    corr_value, _ = stats.pearsonr(df[col1].dropna(), df[col2].dropna())\n",
    "                else:\n",
    "                    corr_value, _ = stats.spearmanr(df[col1].dropna(), df[col2].dropna())\n",
    "                corr_df.loc[col1, col2] = corr_value\n",
    "                corr_df.loc[col2, col1] = corr_value\n",
    "            elif col1 in nominal and col2 in nominal:\n",
    "                contingency_table = pd.crosstab(df[col1], df[col2])\n",
    "                _, p, _, _ = stats.chi2_contingency(contingency_table)\n",
    "                corr_df.loc[col1, col2] = p\n",
    "                corr_df.loc[col2, col1] = p\n",
    "            else:\n",
    "                num_col, cat_col = (col1, col2) if col1 in numeric else (col2, col1)\n",
    "                corr_value = correlation_ratio(df[cat_col], df[num_col])\n",
    "                corr_df.loc[col1, col2] = corr_value\n",
    "                corr_df.loc[col2, col1] = corr_value\n",
    "\n",
    "    corr_df = corr_df.astype(float)\n",
    "\n",
    "\n",
    "    plt.figure(figsize=(10, 8))\n",
    "    cmap = sns.diverging_palette(220, 20, as_cmap=True)\n",
    "    sns.heatmap(corr_df, annot=True, fmt=\".2f\", cmap=cmap, center=0, linewidths=0.5)\n",
    "    plt.title(\"Матрица корреляции\")\n",
    "    plt.show()\n",
    "\n",
    "    return corr_df\n",
    "\n",
    "\n",
    "def IQR_outliers_remove(df: pd.DataFrame, columns: list[str]) -> pd.DataFrame:\n",
    "    for column in columns:\n",
    "        Q1 = df[column].quantile(0.25)\n",
    "        Q3 = df[column].quantile(0.75)\n",
    "        IQR = Q3 - Q1\n",
    "        df = df[(df[column] >= Q1 - 1.5 * IQR) & (df[column] <= Q3 + 1.5 * IQR)]\n",
    "    return df\n",
    "\n",
    "\n",
    "def plot_boxplots(df):\n",
    "    numeric_columns = df.select_dtypes(include=['number']).columns\n",
    "\n",
    "    if len(numeric_columns) == 0:\n",
    "        print(\"Нет количественных столбцов для построения боксплотов.\")\n",
    "        return\n",
    "\n",
    "    plt.figure(figsize=(len(numeric_columns) * 4, 6))\n",
    "    df[numeric_columns].boxplot(rot=45)\n",
    "    plt.title(\"Boxplots for Numeric Columns\")\n",
    "    plt.show()\n",
    "\n",
    "\n",
    "def plot_hist(df):\n",
    "    numeric_columns = df.select_dtypes(include=['number']).columns\n",
    "\n",
    "    if len(numeric_columns) == 0:\n",
    "        print(\"Нет количественных столбцов для построения гистограм.\")\n",
    "        return\n",
    "\n",
    "    plt.figure(figsize=(len(numeric_columns) * 4, 6))\n",
    "    df[numeric_columns].hist()\n",
    "    plt.title(\"Hist for Numeric Columns\")\n",
    "    plt.show()\n"
   ],
   "id": "3afa825d0a5ced47",
   "outputs": [],
   "execution_count": 2
  },
  {
   "metadata": {
    "ExecuteTime": {
     "end_time": "2025-03-15T18:28:57.937323Z",
     "start_time": "2025-03-15T18:27:52.098290Z"
    }
   },
   "cell_type": "code",
   "source": [
    "df = pd.read_excel(\"Датасет дано (1) (1).xlsx\")\n",
    "df.columns = df.columns.str.lower().str.replace(\" \", \"_\")"
   ],
   "id": "f8a1117a2e2a9a34",
   "outputs": [],
   "execution_count": 3
  },
  {
   "metadata": {
    "ExecuteTime": {
     "end_time": "2025-03-15T18:28:58.084665Z",
     "start_time": "2025-03-15T18:28:58.073944Z"
    }
   },
   "cell_type": "code",
   "source": [
    "# Создаем кпд\n",
    "\n",
    "df['kpd'] = (df['useful_chats_fact'] + df['useful_calls_fact'] + df['avail_calls_fact'] + df['avail_chats_fact'] + df['avail_chat_call_fact'] + df[\"education_fact\"] + df[\"additional_fact\"]) / df[\"all_smena_plan\"]"
   ],
   "id": "8a507ae96e740e76",
   "outputs": [],
   "execution_count": 4
  },
  {
   "metadata": {
    "ExecuteTime": {
     "end_time": "2025-03-15T18:28:58.232053Z",
     "start_time": "2025-03-15T18:28:58.091245Z"
    }
   },
   "cell_type": "code",
   "source": [
    "# Оставляем ток ТК + IQR чистка по кпд\n",
    "\n",
    "df = df[df['emp_type'] == 'ТК']\n",
    "df = IQR_outliers_remove(df[df['emp_type'] == 'ТК'], ['kpd'])"
   ],
   "id": "22cfd1261e8f9dca",
   "outputs": [],
   "execution_count": 5
  },
  {
   "metadata": {
    "ExecuteTime": {
     "end_time": "2025-03-15T18:28:58.325114Z",
     "start_time": "2025-03-15T18:28:58.249764Z"
    }
   },
   "cell_type": "code",
   "source": [
    "# Мат. Модель\n",
    "\n",
    "now = df[df['grafik'].isin(['2/2', '5/2'])].dropna(subset=['kpd'])\n",
    "\n",
    "now['2/2'] = (now['grafik'] == '2/2').astype(int)\n",
    "\n",
    "kpd_group1 = now[now['2/2'] == 1]['kpd']\n",
    "kpd_group2 = now[now['2/2'] == 0]['kpd']\n",
    "\n",
    "t_stat, p_value = stats.mannwhitneyu(kpd_group1, kpd_group2, alternative='two-sided')\n",
    "\n",
    "print(f\"U-статистика: {t_stat:.4f}, p-значение: {p_value:.4f}\")"
   ],
   "id": "f1b46bde127f80",
   "outputs": [
    {
     "name": "stdout",
     "output_type": "stream",
     "text": [
      "U-статистика: 704905404.5000, p-значение: 0.0000\n"
     ]
    }
   ],
   "execution_count": 6
  },
  {
   "metadata": {
    "ExecuteTime": {
     "end_time": "2025-03-15T18:28:58.390566Z",
     "start_time": "2025-03-15T18:28:58.374538Z"
    }
   },
   "cell_type": "code",
   "source": [
    "# Проверка на нормальность данных\n",
    "print(norm(kpd_group1), norm(kpd_group2))"
   ],
   "id": "8ea69611d0c488e2",
   "outputs": [
    {
     "name": "stdout",
     "output_type": "stream",
     "text": [
      "False False\n"
     ]
    }
   ],
   "execution_count": 7
  },
  {
   "metadata": {
    "ExecuteTime": {
     "end_time": "2025-03-15T18:28:58.463783Z",
     "start_time": "2025-03-15T18:28:58.447072Z"
    }
   },
   "cell_type": "code",
   "source": [
    "print(\"Медианы:\")\n",
    "print('2: ', kpd_group2.median()*100)\n",
    "print('1: ', kpd_group1.median()*100)"
   ],
   "id": "c670d033f7b8022a",
   "outputs": [
    {
     "name": "stdout",
     "output_type": "stream",
     "text": [
      "Медианы:\n",
      "2:  85.58024691358025\n",
      "1:  86.33101851851852\n"
     ]
    }
   ],
   "execution_count": 8
  },
  {
   "metadata": {
    "ExecuteTime": {
     "end_time": "2025-03-15T18:29:26.549632Z",
     "start_time": "2025-03-15T18:29:26.202530Z"
    }
   },
   "cell_type": "code",
   "source": [
    "# Проверка на устойчивость по business_line\n",
    "\n",
    "for i in df['business_line'].unique():\n",
    "    now = df[df['business_line'] == i][df['grafik'].isin(['2/2', '5/2'])].dropna(subset=['kpd'])\n",
    "\n",
    "    now['2/2'] = (now['grafik'] == '2/2').astype(int)\n",
    "\n",
    "    kpd_group1 = now[now['2/2'] == 1][now['kpd'] < 1000]['kpd']\n",
    "    kpd_group2 = now[now['2/2'] == 0][now['kpd'] < 1000]['kpd']\n",
    "    if len(kpd_group1) != 0 and 0 != len(kpd_group2):\n",
    "        t_stat, p_value = stats.mannwhitneyu(kpd_group1, kpd_group2, alternative='two-sided')\n",
    "        print(f\"{i}: p-значение: {p_value:.4f}, кол-во строк: {now.shape[0]}\")"
   ],
   "id": "3468fa6fb16be2d4",
   "outputs": [
    {
     "name": "stdout",
     "output_type": "stream",
     "text": [
      "Mobile: p-значение: 0.0000, кол-во: 4710\n",
      "Инвестиции: p-значение: 0.0000, кол-во: 3748\n",
      "Депозитные продукты: p-значение: 0.0000, кол-во: 33266\n",
      "SME: p-значение: 0.0000, кол-во: 10688\n",
      "Кросс-функции: p-значение: 0.0000, кол-во: 3774\n",
      "Кредитные продукты: p-значение: 0.0000, кол-во: 10242\n",
      "Страховая: p-значение: 0.0000, кол-во: 1884\n",
      "Premium Банк: p-значение: 0.0009, кол-во: 1939\n",
      "Нефинансовые продукты: p-значение: 0.0000, кол-во: 1463\n"
     ]
    }
   ],
   "execution_count": 10
  },
  {
   "metadata": {
    "ExecuteTime": {
     "end_time": "2025-03-15T18:29:47.037189Z",
     "start_time": "2025-03-15T18:29:46.850702Z"
    }
   },
   "cell_type": "code",
   "source": [
    "# Проверка на устойчивость по gender\n",
    "\n",
    "for i in df['gender_desc'].unique():\n",
    "    now = df[df['gender_desc'] == i][df['grafik'].isin(['2/2', '5/2'])].dropna(subset=['kpd'])\n",
    "\n",
    "    now['2/2'] = (now['grafik'] == '2/2').astype(int)\n",
    "\n",
    "    kpd_group1 = now[now['2/2'] == 1][now['kpd'] < 1000]['kpd']\n",
    "    kpd_group2 = now[now['2/2'] == 0][now['kpd'] < 1000]['kpd']\n",
    "    if len(kpd_group1) != 0 and 0 != len(kpd_group2):\n",
    "        t_stat, p_value = stats.mannwhitneyu(kpd_group1, kpd_group2, alternative='two-sided')\n",
    "        print(f\"{i}: p-значение: {p_value:.4f}, кол-во строк: {now.shape[0]}\")"
   ],
   "id": "b9f520a0284205d1",
   "outputs": [
    {
     "name": "stdout",
     "output_type": "stream",
     "text": [
      "Женщина: p-значение: 0.0000, кол-во строк: 45523\n",
      "Мужчина: p-значение: 0.0000, кол-во строк: 26191\n"
     ]
    }
   ],
   "execution_count": 12
  }
 ],
 "metadata": {
  "kernelspec": {
   "display_name": "Python 3",
   "language": "python",
   "name": "python3"
  },
  "language_info": {
   "codemirror_mode": {
    "name": "ipython",
    "version": 2
   },
   "file_extension": ".py",
   "mimetype": "text/x-python",
   "name": "python",
   "nbconvert_exporter": "python",
   "pygments_lexer": "ipython2",
   "version": "2.7.6"
  }
 },
 "nbformat": 4,
 "nbformat_minor": 5
}
